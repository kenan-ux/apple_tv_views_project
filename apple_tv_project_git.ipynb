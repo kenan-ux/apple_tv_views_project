{
 "cells": [
  {
   "cell_type": "code",
   "execution_count": null,
   "metadata": {},
   "outputs": [],
   "source": [
    "import pandas as pd\n",
    "import numpy as np\n",
    "from matplotlib import pyplot as plt\n",
    "import seaborn as sns\n",
    "plt.style.use('ggplot')\n",
    "\n",
    "from math import ceil\n",
    "import warnings\n",
    "warnings.filterwarnings(\"ignore\")\n",
    "\n",
    "from ast import literal_eval\n",
    "import missingno as msno\n",
    "import plotly.express as px"
   ]
  },
  {
   "cell_type": "code",
   "execution_count": null,
   "metadata": {},
   "outputs": [],
   "source": [
    "titles=pd.read_csv('C:\\\\Users\\\\kenan\\\\Downloads\\\\titles.csv')\n",
    "credits=pd.read_csv('C:\\\\Users\\\\kenan\\\\Downloads\\\\credits.csv')"
   ]
  },
  {
   "cell_type": "code",
   "execution_count": null,
   "metadata": {},
   "outputs": [],
   "source": [
    "titles.head(10)"
   ]
  },
  {
   "cell_type": "code",
   "execution_count": null,
   "metadata": {},
   "outputs": [],
   "source": [
    "credits.head(10)"
   ]
  },
  {
   "attachments": {},
   "cell_type": "markdown",
   "metadata": {},
   "source": [
    "function to return the shape of the dataset"
   ]
  },
  {
   "cell_type": "code",
   "execution_count": null,
   "metadata": {},
   "outputs": [],
   "source": [
    "def shape_of_dataset(df,dataset_name=\"df\"):\n",
    "    print(f\"{dataset_name} dataset has {df.shape[0]} nrows and {df.shape[1]} ncolumns\")\n",
    "    return df.shape[0],df.shape[1]"
   ]
  },
  {
   "cell_type": "code",
   "execution_count": null,
   "metadata": {},
   "outputs": [],
   "source": [
    "titles_r,titles_c=shape_of_dataset(titles,\"Titles\")\n",
    "credits_r,credits_c=shape_of_dataset(credits,\"Credits\")"
   ]
  },
  {
   "attachments": {},
   "cell_type": "markdown",
   "metadata": {},
   "source": [
    "function to return how many null values in the dataset"
   ]
  },
  {
   "cell_type": "code",
   "execution_count": null,
   "metadata": {},
   "outputs": [],
   "source": [
    "def count_null_values(df,dataset_name):\n",
    "    num_of_total_null_values=sum(df.isnull().sum().values)\n",
    "    print(f\"{dataset_name} dataset has {num_of_total_null_values} null values\")\n",
    "    return num_of_total_null_values"
   ]
  },
  {
   "cell_type": "code",
   "execution_count": null,
   "metadata": {},
   "outputs": [],
   "source": [
    "titles_null=count_null_values(titles,\"Titles\")\n",
    "credits_null=count_null_values(credits,\"Credits\")"
   ]
  },
  {
   "attachments": {},
   "cell_type": "markdown",
   "metadata": {},
   "source": [
    "Function to return columns with null values in the dataset"
   ]
  },
  {
   "cell_type": "code",
   "execution_count": null,
   "metadata": {},
   "outputs": [],
   "source": [
    "def detect_null_columns(df,dataset_name):\n",
    "    \n",
    "    col=[]\n",
    "    s=df.isnull().sum()\n",
    "    for x in range(len(s)):\n",
    "        if s[x]>0:\n",
    "            col.append(s.index[x])\n",
    "        tot_cols=len(col)\n",
    "        if tot_cols==0:\n",
    "            print(f\"{dataset_name} dataset has no null columns\")\n",
    "        else:\n",
    "            print(f\"{dataset_name} dataset has {tot_cols} null columns and they are:\")\n",
    "            for x in col:\n",
    "                print(x,end=\",\")\n",
    "            print()\n",
    "    return col,len(col)"
   ]
  },
  {
   "cell_type": "code",
   "execution_count": null,
   "metadata": {},
   "outputs": [],
   "source": [
    "total_titles_null_cols,titles_null_cols=detect_null_columns(titles,\"Titles\")\n",
    "total_credits_null_cols,credits_null_cols=detect_null_columns(credits,\"Credits\")"
   ]
  },
  {
   "attachments": {},
   "cell_type": "markdown",
   "metadata": {},
   "source": [
    "create df to compare between the datasets"
   ]
  },
  {
   "cell_type": "code",
   "execution_count": null,
   "metadata": {},
   "outputs": [],
   "source": [
    "detailed_db=pd.DataFrame({\n",
    "    \"dataset\":[],\n",
    "    \"nrows\":[],\n",
    "    \"ncols\":[],\n",
    "    \"null_amount\":[],\n",
    "    \"names_of_null_cols\":[],\n",
    "    \"num_null_cols\":[],\n",
    "})"
   ]
  },
  {
   "cell_type": "code",
   "execution_count": null,
   "metadata": {},
   "outputs": [],
   "source": [
    "def fill_db_dataset(dataset_name,nrows,ncols,null_amount,names_of_null_cols,num_null_cols):\n",
    "    detailed_db.loc[len(detailed_db.index)]=[dataset_name,nrows,ncols,null_amount,','.join(names_of_null_cols),int(num_null_cols)]"
   ]
  },
  {
   "cell_type": "code",
   "execution_count": null,
   "metadata": {},
   "outputs": [],
   "source": [
    "fill_db_dataset('Olist Customer',titles_r,titles_c,titles_null,total_titles_null_cols,titles_null_cols)\n",
    "fill_db_dataset('Olist Geolocation',credits_r,credits_c,credits_null,total_credits_null_cols,credits_null_cols)"
   ]
  },
  {
   "cell_type": "code",
   "execution_count": null,
   "metadata": {},
   "outputs": [],
   "source": [
    "detailed_db"
   ]
  },
  {
   "cell_type": "code",
   "execution_count": null,
   "metadata": {},
   "outputs": [],
   "source": [
    "titles.info()"
   ]
  },
  {
   "cell_type": "code",
   "execution_count": null,
   "metadata": {},
   "outputs": [],
   "source": [
    "credits.info()"
   ]
  },
  {
   "cell_type": "code",
   "execution_count": null,
   "metadata": {},
   "outputs": [],
   "source": [
    "titles.describe()"
   ]
  },
  {
   "cell_type": "code",
   "execution_count": null,
   "metadata": {},
   "outputs": [],
   "source": [
    "credits.describe()"
   ]
  },
  {
   "cell_type": "code",
   "execution_count": null,
   "metadata": {},
   "outputs": [],
   "source": [
    "titles.nunique()"
   ]
  },
  {
   "cell_type": "code",
   "execution_count": null,
   "metadata": {},
   "outputs": [],
   "source": [
    "credits.nunique()"
   ]
  },
  {
   "cell_type": "code",
   "execution_count": null,
   "metadata": {},
   "outputs": [],
   "source": [
    "titles.dtypes"
   ]
  },
  {
   "cell_type": "code",
   "execution_count": null,
   "metadata": {},
   "outputs": [],
   "source": [
    "credits.dtypes"
   ]
  },
  {
   "cell_type": "code",
   "execution_count": null,
   "metadata": {},
   "outputs": [],
   "source": [
    "titles.isnull().sum()"
   ]
  },
  {
   "cell_type": "code",
   "execution_count": null,
   "metadata": {},
   "outputs": [],
   "source": [
    "msno.matrix(titles)\n",
    "plt.title('Distribution of Missing Values in titles dataset',fontsize=30)"
   ]
  },
  {
   "cell_type": "code",
   "execution_count": null,
   "metadata": {},
   "outputs": [],
   "source": [
    "credits.isnull().sum()"
   ]
  },
  {
   "cell_type": "code",
   "execution_count": null,
   "metadata": {},
   "outputs": [],
   "source": [
    "msno.matrix(credits)\n",
    "plt.title('Distribution of Miissing Values in credits dataset',fontsize=30)"
   ]
  },
  {
   "attachments": {},
   "cell_type": "markdown",
   "metadata": {},
   "source": [
    "4 || Data Analysis and visulization\n",
    "\n",
    "\n",
    "\n",
    "\n",
    "2 functions for countplot and barplot"
   ]
  },
  {
   "cell_type": "code",
   "execution_count": null,
   "metadata": {},
   "outputs": [],
   "source": [
    "def count_plot(x,df,title,xlabel,ylabel,width,height,order=None,rotation=False,\n",
    "               palette='winter',hue=None):\n",
    "    ncount=len(df)\n",
    "    plt.figure(figsize=(width,height))\n",
    "    ax=sns.countplot(x=x,palette=palette,order=order,hue=hue)\n",
    "    plt.title(title,fontsize=20)\n",
    "    if rotation:\n",
    "        plt.xticks(rotation='vertical')\n",
    "    plt.xlabel(xlabel,fontsize=15)\n",
    "    plt.ylabel(ylabel,fontsize=15)\n",
    "\n",
    "    ax.yaxis.set_label_position('left')\n",
    "    for p in ax.patches:\n",
    "        x=p.get_bbox().get_points()[:,0]\n",
    "        y=p.get_bbox().get_points()[1,1]\n",
    "        ax.annote('{:.1f}%'.format(100.*y/ncount),(x.mean(),y),\n",
    "                  ha='center',va='bottom',)\n",
    "    plt.show()\n",
    "\n",
    "def bar_plot(x,y,df,annotation,title,xlabel,ylabel,widht,height,order=None,rotation=False,\n",
    "             palette='winter',hue=None):\n",
    "    ncount=len(df)\n",
    "    plt.figure(figsize=(widht,height))\n",
    "    ax=sns.barplot(x=x,y=y,palette=palette,order=order,hue=hue)\n",
    "    plt.title(title,fontsize=20)\n",
    "    if rotation:\n",
    "        plt.xticks(rotation='vertical')\n",
    "    plt.xlabel(xlabel,fontsize=15)\n",
    "    plt.ylabel(ylabel,fontsiz=15)\n",
    "\n",
    "    ax.yaxis.set_label_position('left')\n",
    "    c=0\n",
    "    for p in ax.patches:\n",
    "         x=p.get_bbox().get_points()[:,0]\n",
    "         y=p.get_bbox().get_points()[1,1]\n",
    "         ax.annotate('{:.1f}'.format(annottation[c]), (x.mean(),y),\n",
    "                     ha='center',va='bottom',color='black')\n",
    "         c+=1\n",
    "    plt.show()\n",
    "\n",
    "\n",
    "def bar_plot2(x, y, df, annotation, title, xlabel, ylabel, width, height, order = None, rotation=False, palette='winter', hue=None):\n",
    "    ncount = len(df)\n",
    "    plt.figure(figsize=(width,height))\n",
    "    ax = sns.barplot(x = x, y=y, palette=palette, order = order, hue=hue)\n",
    "    plt.title(title, fontsize=30)\n",
    "    if rotation:\n",
    "        plt.xticks(rotation = 'vertical', fontsize=20)\n",
    "    plt.xlabel(xlabel, fontsize=20)\n",
    "    plt.ylabel(ylabel, fontsize=20)\n",
    "    \n",
    "    ax.yaxis.set_label_position('left')\n",
    "    c = 0\n",
    "    for p in ax.patches:\n",
    "        x=p.get_bbox().get_points()[:,0]\n",
    "        y=p.get_bbox().get_points()[1,1]\n",
    "        ax.annotate('{:}'.format(ceil(annotation[c])), (x.mean(), y), \n",
    "                ha='center', va='bottom', color='black') # set the alignment of the text\n",
    "        c+=1\n",
    "    plt.show()\n"
   ]
  },
  {
   "cell_type": "code",
   "execution_count": null,
   "metadata": {},
   "outputs": [],
   "source": [
    "titles['type'].value_counts()"
   ]
  },
  {
   "cell_type": "code",
   "execution_count": null,
   "metadata": {},
   "outputs": [],
   "source": [
    "x=titles['type']\n",
    "count_plot(x,titles,'Movies vs shows frequency','Type','Frequecy',12,8)"
   ]
  },
  {
   "cell_type": "code",
   "execution_count": null,
   "metadata": {},
   "outputs": [],
   "source": [
    "x=titles['age_certification']\n",
    "order=titles['age_certification'].value_counts().index\n",
    "count_plot(x,titles,'age certification frequency',\"age certification\",\"Frequency\",\n",
    "           12,8,order=order,palette=\"summer\")"
   ]
  },
  {
   "cell_type": "code",
   "execution_count": null,
   "metadata": {},
   "outputs": [],
   "source": [
    "movies=titles[titles['type']==\"MOVIE\"]\n",
    "shows=titles[titles['type']==\"SHOW\"]"
   ]
  },
  {
   "cell_type": "code",
   "execution_count": null,
   "metadata": {},
   "outputs": [],
   "source": [
    "movies.head(10)"
   ]
  },
  {
   "cell_type": "code",
   "execution_count": null,
   "metadata": {},
   "outputs": [],
   "source": [
    "shows.head(10)"
   ]
  },
  {
   "cell_type": "code",
   "execution_count": null,
   "metadata": {},
   "outputs": [],
   "source": [
    "print(f\"Dataset contains {len(movies)} movie and {len(shows)} show\")"
   ]
  },
  {
   "cell_type": "code",
   "execution_count": null,
   "metadata": {},
   "outputs": [],
   "source": [
    "top_20_imdb_score_movies=movies.groupby('title')['imdb_score'].agg('sum').sort_values(ascending=False).reset_index().head(20)\n",
    "top_20_imdb_score_movies.head()"
   ]
  },
  {
   "cell_type": "code",
   "execution_count": null,
   "metadata": {},
   "outputs": [],
   "source": [
    "x=top_20_imdb_score_movies[\"title\"]\n",
    "y=top_20_imdb_score_movies['imdb_score']\n",
    "bar_plot(x,y,top_20_imdb_score_movies,top_20_imdb_score_movies['imdb_score'],\"Top 20 rated apple-tv movies on imdb\", \"Movie name\", \"Rating\", 12,8, rotation=True, palette='dark')"
   ]
  },
  {
   "cell_type": "code",
   "execution_count": null,
   "metadata": {},
   "outputs": [],
   "source": [
    "merg=top_20_imdb_score_movies.merge(movies[['title','imdb_votes']],on=\"title\")\n",
    "merg.head()"
   ]
  },
  {
   "cell_type": "code",
   "execution_count": null,
   "metadata": {},
   "outputs": [],
   "source": [
    "merg.isnull().sum()"
   ]
  },
  {
   "cell_type": "code",
   "execution_count": null,
   "metadata": {},
   "outputs": [],
   "source": [
    "merg.fillna(1800.0,inplace=True)"
   ]
  },
  {
   "cell_type": "code",
   "execution_count": null,
   "metadata": {},
   "outputs": [],
   "source": [
    "merg.isnull().sum()"
   ]
  },
  {
   "cell_type": "code",
   "execution_count": null,
   "metadata": {},
   "outputs": [],
   "source": [
    "from matplotlib import style\n",
    "print(plt.style.available)"
   ]
  },
  {
   "cell_type": "code",
   "execution_count": null,
   "metadata": {},
   "outputs": [],
   "source": [
    "plt.style.use('fivethirtyeight')\n",
    "x = merg['title']\n",
    "y1 = merg['imdb_score']\n",
    "y2 = merg['imdb_votes']\n",
    "fig, ax1 = plt.subplots()\n",
    "\n",
    "fig.set_figheight(10)\n",
    "fig.set_figwidth(15)\n",
    "ax2 = ax1.twinx()\n",
    "\n",
    "ax1.bar(x, y1)\n",
    "ax2.plot(x, y2, 'r-', marker='o', markersize=10, markerfacecolor='blue')\n",
    "\n",
    "plt.title(\"Ratings and votes per movie\", color='black', fontsize=40)\n",
    "ax1.set_ylabel('Ratings', color='b', fontsize=30)\n",
    "ax2.set_ylabel('Votings', color='r', fontsize=30)\n",
    "\n",
    "ax1.set_xticklabels(x, rotation=90, ha='right', color='green', fontsize=20)\n",
    "ax1.set_yticklabels(y1,color='black', fontsize=20)\n",
    "ax2.set_yticklabels(y2,color='black', fontsize=20)\n",
    "\n",
    "\n",
    "c = 0\n",
    "\n",
    "for p in ax1.patches:\n",
    "    x=p.get_bbox().get_points()[:,0]\n",
    "    y=p.get_bbox().get_points()[1,1]\n",
    "    ax1.annotate('{:.1f}'.format(merg['imdb_score'][c]), (x.mean(), y), \n",
    "            ha='center', va='bottom', color='black', fontsize=18) \n",
    "    c+=1"
   ]
  },
  {
   "cell_type": "code",
   "execution_count": null,
   "metadata": {},
   "outputs": [],
   "source": [
    "top20_imdb_voting_movies=movies.groupby('title')['imdb_votes'].agg('sum').sort_values(ascending=False).reset_index().head(10)\n",
    "top20_imdb_voting_movies.head()"
   ]
  },
  {
   "cell_type": "code",
   "execution_count": null,
   "metadata": {},
   "outputs": [],
   "source": [
    "plt.style.use('ggplot')\n",
    "x = top20_imdb_voting_movies['title']\n",
    "y = top20_imdb_voting_movies['imdb_votes']\n",
    "bar_plot2(x,y,top20_imdb_voting_movies,top20_imdb_voting_movies['imdb_votes'],\"Top 20 most voted apple-tv movies on imdb\", \"Movie name\", \"Rating\", 15,8, rotation=True, palette='flare')"
   ]
  },
  {
   "cell_type": "code",
   "execution_count": null,
   "metadata": {},
   "outputs": [],
   "source": [
    "merg=top20_imdb_voting_movies.merge(movies[['title','imdb_score']],on='title',)\n",
    "merg.head()"
   ]
  },
  {
   "cell_type": "code",
   "execution_count": null,
   "metadata": {},
   "outputs": [],
   "source": [
    "merg.isnull().sum()"
   ]
  },
  {
   "cell_type": "code",
   "execution_count": null,
   "metadata": {},
   "outputs": [],
   "source": [
    "x=merg['title']\n",
    "y1=merg['imdb_votes']\n",
    "y2=merg['imdb_score']\n",
    "fig,ax1=plt.subplots()\n",
    "\n",
    "fig.set_figheight(10)\n",
    "fig.set_figwidth(15)\n",
    "ax2=ax1.twinx()\n",
    "\n",
    "ax1.bar(x,y1,color='green')\n",
    "ax2.plot(x,y2,'b-',marker='o',markersize=10,markerfacecolor='red')\n",
    "\n",
    "plt.title(\"Ratings and votes per movie\",color='black',fontsize=40)\n",
    "ax1.set_ylabel(\"Votings\",color='g',fontsize=30)\n",
    "ax2.set_ylabel(\"Ratings\",color='b',fontsize=30)\n",
    "\n",
    "ax1.set_xticklabels(x,rotation=90,ha='right',color='black',fontsize=20)\n",
    "\n",
    "\n",
    "c=0\n",
    "\n",
    "for p in ax1.patches:\n",
    "    x=p.get_bbox().get_points()[:,0]\n",
    "    y=p.get_bbox().get_points()[1,1]\n",
    "    ax1.annotate('{:}'.format(ceil(merg['imdb_votes'][c])), (x,mean(),y),\n",
    "                 ha='center',va=bottom,color='black')\n",
    "    \n",
    "\n",
    "    c+=1"
   ]
  },
  {
   "cell_type": "code",
   "execution_count": null,
   "metadata": {},
   "outputs": [],
   "source": [
    "top20_tmdb_scores_movies=movies.groupby('title')['tmdb_score'].agg('sum').sort_values(ascending=False).reset_index().head(20)\n",
    "top20_tmdb_scores_movies.head()"
   ]
  },
  {
   "cell_type": "code",
   "execution_count": null,
   "metadata": {},
   "outputs": [],
   "source": [
    "x=top20_tmdb_scores_movies['title']\n",
    "y=top20_tmdb_scores_movies['tmdb_score']\n",
    "bar_plot(x,y,top20_tmdb_scores_movies,top20_tmdb_scores_movies['tmdb_score'],'Top 20 rated apple-tv movies  on tmdb ',\n",
    "         'movie name','ratings',12,8,rotation=True,palette='spring')"
   ]
  },
  {
   "cell_type": "code",
   "execution_count": null,
   "metadata": {},
   "outputs": [],
   "source": [
    "merg=top20_tmdb_scores_movies.merge(movies[['title','tmdb_popularity']],on='title')\n",
    "merg.head()"
   ]
  },
  {
   "cell_type": "code",
   "execution_count": null,
   "metadata": {},
   "outputs": [],
   "source": [
    "x = merg['title']\n",
    "y1 = merg['tmdb_score']\n",
    "y2 = merg['tmdb_popularity']\n",
    "fig, ax1 = plt.subplots()\n",
    "\n",
    "fig.set_figheight(10)\n",
    "fig.set_figwidth(15)\n",
    "ax2 = ax1.twinx()\n",
    "\n",
    "ax1.bar(x, y1, color='orange')\n",
    "ax2.plot(x, y2, 'k-', marker='o', markersize=10, markerfacecolor='red')\n",
    "\n",
    "plt.title(\"Top 20 Rated movies with Popularity on tmdb\", color='black', fontsize=40)\n",
    "ax1.set_ylabel('Ratings', color='orange', fontsize=30)\n",
    "ax2.set_ylabel('Popularity', color='black', fontsize=30)\n",
    "\n",
    "ax1.set_xticklabels(x, rotation=90, ha='right', color='black', fontsize=20)\n",
    "\n",
    "\n",
    "c = 0\n",
    "\n",
    "for p in ax1.patches:\n",
    "    x=p.get_bbox().get_points()[:,0]\n",
    "    y=p.get_bbox().get_points()[1,1]\n",
    "    ax1.annotate('{:.1f}'.format(merg['tmdb_score'][c]), (x.mean(), y), \n",
    "            ha='center', va='bottom', color='black') \n",
    "    c+=1"
   ]
  },
  {
   "cell_type": "code",
   "execution_count": null,
   "metadata": {},
   "outputs": [],
   "source": []
  }
 ],
 "metadata": {
  "kernelspec": {
   "display_name": "Python 3",
   "language": "python",
   "name": "python3"
  },
  "language_info": {
   "codemirror_mode": {
    "name": "ipython",
    "version": 3
   },
   "file_extension": ".py",
   "mimetype": "text/x-python",
   "name": "python",
   "nbconvert_exporter": "python",
   "pygments_lexer": "ipython3",
   "version": "3.11.9"
  },
  "orig_nbformat": 4
 },
 "nbformat": 4,
 "nbformat_minor": 2
}
